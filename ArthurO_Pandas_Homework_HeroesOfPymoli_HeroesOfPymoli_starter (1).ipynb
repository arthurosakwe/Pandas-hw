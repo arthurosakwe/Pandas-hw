{
 "cells": [
  {
   "cell_type": "markdown",
   "metadata": {},
   "source": [
    "### Heroes Of Pymoli Data Analysis\n",
    "* Of the 1163 active players, the vast majority are male (84%). There also exists, a smaller, but notable proportion of female players (14%).\n",
    "\n",
    "* Our peak age demographic falls between 20-24 (44.8%) with secondary groups falling between 15-19 (18.60%) and 25-29 (13.4%).  \n",
    "-----"
   ]
  },
  {
   "cell_type": "markdown",
   "metadata": {},
   "source": [
    "### Note\n",
    "* Instructions have been included for each segment. You do not have to follow them exactly, but they are included to help you think through the steps."
   ]
  },
  {
   "cell_type": "code",
   "execution_count": 34,
   "metadata": {},
   "outputs": [
    {
     "data": {
      "text/html": [
       "<div>\n",
       "<style scoped>\n",
       "    .dataframe tbody tr th:only-of-type {\n",
       "        vertical-align: middle;\n",
       "    }\n",
       "\n",
       "    .dataframe tbody tr th {\n",
       "        vertical-align: top;\n",
       "    }\n",
       "\n",
       "    .dataframe thead th {\n",
       "        text-align: right;\n",
       "    }\n",
       "</style>\n",
       "<table border=\"1\" class=\"dataframe\">\n",
       "  <thead>\n",
       "    <tr style=\"text-align: right;\">\n",
       "      <th></th>\n",
       "      <th>Purchase ID</th>\n",
       "      <th>SN</th>\n",
       "      <th>Age</th>\n",
       "      <th>Gender</th>\n",
       "      <th>Item ID</th>\n",
       "      <th>Item Name</th>\n",
       "      <th>Price</th>\n",
       "    </tr>\n",
       "  </thead>\n",
       "  <tbody>\n",
       "    <tr>\n",
       "      <th>0</th>\n",
       "      <td>0</td>\n",
       "      <td>Lisim78</td>\n",
       "      <td>20</td>\n",
       "      <td>Male</td>\n",
       "      <td>108</td>\n",
       "      <td>Extraction, Quickblade Of Trembling Hands</td>\n",
       "      <td>3.53</td>\n",
       "    </tr>\n",
       "    <tr>\n",
       "      <th>1</th>\n",
       "      <td>1</td>\n",
       "      <td>Lisovynya38</td>\n",
       "      <td>40</td>\n",
       "      <td>Male</td>\n",
       "      <td>143</td>\n",
       "      <td>Frenzied Scimitar</td>\n",
       "      <td>1.56</td>\n",
       "    </tr>\n",
       "    <tr>\n",
       "      <th>2</th>\n",
       "      <td>2</td>\n",
       "      <td>Ithergue48</td>\n",
       "      <td>24</td>\n",
       "      <td>Male</td>\n",
       "      <td>92</td>\n",
       "      <td>Final Critic</td>\n",
       "      <td>4.88</td>\n",
       "    </tr>\n",
       "    <tr>\n",
       "      <th>3</th>\n",
       "      <td>3</td>\n",
       "      <td>Chamassasya86</td>\n",
       "      <td>24</td>\n",
       "      <td>Male</td>\n",
       "      <td>100</td>\n",
       "      <td>Blindscythe</td>\n",
       "      <td>3.27</td>\n",
       "    </tr>\n",
       "    <tr>\n",
       "      <th>4</th>\n",
       "      <td>4</td>\n",
       "      <td>Iskosia90</td>\n",
       "      <td>23</td>\n",
       "      <td>Male</td>\n",
       "      <td>131</td>\n",
       "      <td>Fury</td>\n",
       "      <td>1.44</td>\n",
       "    </tr>\n",
       "  </tbody>\n",
       "</table>\n",
       "</div>"
      ],
      "text/plain": [
       "   Purchase ID             SN  Age Gender  Item ID  \\\n",
       "0            0        Lisim78   20   Male      108   \n",
       "1            1    Lisovynya38   40   Male      143   \n",
       "2            2     Ithergue48   24   Male       92   \n",
       "3            3  Chamassasya86   24   Male      100   \n",
       "4            4      Iskosia90   23   Male      131   \n",
       "\n",
       "                                   Item Name  Price  \n",
       "0  Extraction, Quickblade Of Trembling Hands   3.53  \n",
       "1                          Frenzied Scimitar   1.56  \n",
       "2                               Final Critic   4.88  \n",
       "3                                Blindscythe   3.27  \n",
       "4                                       Fury   1.44  "
      ]
     },
     "execution_count": 34,
     "metadata": {},
     "output_type": "execute_result"
    }
   ],
   "source": [
    "# Dependencies and Setup\n",
    "import pandas as pd\n",
    "import numpy as np\n",
    "\n",
    "# File to Load (Remember to Change These)\n",
    "file_to_load = \"purchase_data.csv\"\n",
    "\n",
    "# Read Purchasing File and store into Pandas data frame\n",
    "df = pd.read_csv('purchase_data.csv')\n",
    "\n",
    "df.head()\n",
    "\n"
   ]
  },
  {
   "cell_type": "markdown",
   "metadata": {},
   "source": [
    "## Player Count"
   ]
  },
  {
   "cell_type": "markdown",
   "metadata": {},
   "source": [
    "* Display the total number of players\n"
   ]
  },
  {
   "cell_type": "code",
   "execution_count": 39,
   "metadata": {},
   "outputs": [
    {
     "data": {
      "text/html": [
       "<div>\n",
       "<style scoped>\n",
       "    .dataframe tbody tr th:only-of-type {\n",
       "        vertical-align: middle;\n",
       "    }\n",
       "\n",
       "    .dataframe tbody tr th {\n",
       "        vertical-align: top;\n",
       "    }\n",
       "\n",
       "    .dataframe thead th {\n",
       "        text-align: right;\n",
       "    }\n",
       "</style>\n",
       "<table border=\"1\" class=\"dataframe\">\n",
       "  <thead>\n",
       "    <tr style=\"text-align: right;\">\n",
       "      <th></th>\n",
       "      <th>Total Players</th>\n",
       "    </tr>\n",
       "  </thead>\n",
       "  <tbody>\n",
       "    <tr>\n",
       "      <th>0</th>\n",
       "      <td>576</td>\n",
       "    </tr>\n",
       "  </tbody>\n",
       "</table>\n",
       "</div>"
      ],
      "text/plain": [
       "   Total Players\n",
       "0            576"
      ]
     },
     "execution_count": 39,
     "metadata": {},
     "output_type": "execute_result"
    }
   ],
   "source": [
    "players = df['SN'].nunique()\n",
    "total_players = pd.DataFrame({\"Total Players\": [players]}, columns= [\"Total Players\"])\n",
    "total_players\n"
   ]
  },
  {
   "cell_type": "markdown",
   "metadata": {},
   "source": [
    "## Purchasing Analysis (Total)"
   ]
  },
  {
   "cell_type": "markdown",
   "metadata": {},
   "source": [
    "* Run basic calculations to obtain number of unique items, average price, etc.\n",
    "\n",
    "\n",
    "* Create a summary data frame to hold the results\n",
    "\n",
    "\n",
    "* Optional: give the displayed data cleaner formatting\n",
    "\n",
    "\n",
    "* Display the summary data frame\n"
   ]
  },
  {
   "cell_type": "code",
   "execution_count": 120,
   "metadata": {
    "scrolled": true
   },
   "outputs": [
    {
     "data": {
      "text/html": [
       "<style  type=\"text/css\" >\n",
       "</style>  \n",
       "<table id=\"T_7843314a_ba1f_11e8_b1fe_6030d4706122\" > \n",
       "<thead>    <tr> \n",
       "        <th class=\"blank level0\" ></th> \n",
       "        <th class=\"col_heading level0 col0\" >Number of Unique Items</th> \n",
       "        <th class=\"col_heading level0 col1\" >Average Purchase Price</th> \n",
       "        <th class=\"col_heading level0 col2\" >Number of Purchases</th> \n",
       "        <th class=\"col_heading level0 col3\" >Total Revenue</th> \n",
       "    </tr></thead> \n",
       "<tbody>    <tr> \n",
       "        <th id=\"T_7843314a_ba1f_11e8_b1fe_6030d4706122level0_row0\" class=\"row_heading level0 row0\" >0</th> \n",
       "        <td id=\"T_7843314a_ba1f_11e8_b1fe_6030d4706122row0_col0\" class=\"data row0 col0\" >183</td> \n",
       "        <td id=\"T_7843314a_ba1f_11e8_b1fe_6030d4706122row0_col1\" class=\"data row0 col1\" >$3.05</td> \n",
       "        <td id=\"T_7843314a_ba1f_11e8_b1fe_6030d4706122row0_col2\" class=\"data row0 col2\" >780</td> \n",
       "        <td id=\"T_7843314a_ba1f_11e8_b1fe_6030d4706122row0_col3\" class=\"data row0 col3\" >$2379.77</td> \n",
       "    </tr></tbody> \n",
       "</table> "
      ],
      "text/plain": [
       "<pandas.io.formats.style.Styler at 0x10c5ea470>"
      ]
     },
     "execution_count": 120,
     "metadata": {},
     "output_type": "execute_result"
    }
   ],
   "source": [
    "#sum of items(no duplicates)\n",
    "unique_items = df['Item ID'].nunique()\n",
    "#total_revenue/price_count\n",
    "average_price = (df['Price'].sum()/df['Price'].count()).round(3)\n",
    "#purchases = price_count\n",
    "purchases = df['Price'].count()\n",
    "\n",
    "total_revenue = df[\"Price\"].sum()\n",
    "\n",
    "summary_df = pd.DataFrame({\"Number of Unique Items\": [unique_items], \n",
    "                                 \"Average Purchase Price\": [average_price],\n",
    "                                 \"Number of Purchases\": [purchases],\n",
    "                                 \"Total Revenue\": [total_revenue]}, columns= [\"Number of Unique Items\", \"Average Purchase Price\",\n",
    "                                 \"Number of Purchases\", \"Total Revenue\"])\n",
    "\n",
    "summary_df.style.format({\"Average Purchase Price\": \"${:.2f}\", \"Total Revenue\": \"${:.2f}\"})"
   ]
  },
  {
   "cell_type": "markdown",
   "metadata": {},
   "source": [
    "## Gender Demographics"
   ]
  },
  {
   "cell_type": "markdown",
   "metadata": {},
   "source": [
    "* Percentage and Count of Male Players\n",
    "\n",
    "\n",
    "* Percentage and Count of Female Players\n",
    "\n",
    "\n",
    "* Percentage and Count of Other / Non-Disclosed\n",
    "\n",
    "\n"
   ]
  },
  {
   "cell_type": "code",
   "execution_count": 111,
   "metadata": {},
   "outputs": [
    {
     "data": {
      "text/html": [
       "<style  type=\"text/css\" >\n",
       "</style>  \n",
       "<table id=\"T_6292faac_ba1e_11e8_bbbb_6030d4706122\" > \n",
       "<thead>    <tr> \n",
       "        <th class=\"blank level0\" ></th> \n",
       "        <th class=\"col_heading level0 col0\" >Gender</th> \n",
       "        <th class=\"col_heading level0 col1\" >Total Count</th> \n",
       "        <th class=\"col_heading level0 col2\" >Percentage of Players</th> \n",
       "    </tr></thead> \n",
       "<tbody>    <tr> \n",
       "        <th id=\"T_6292faac_ba1e_11e8_bbbb_6030d4706122level0_row0\" class=\"row_heading level0 row0\" >0</th> \n",
       "        <td id=\"T_6292faac_ba1e_11e8_bbbb_6030d4706122row0_col0\" class=\"data row0 col0\" >Male</td> \n",
       "        <td id=\"T_6292faac_ba1e_11e8_bbbb_6030d4706122row0_col1\" class=\"data row0 col1\" >484</td> \n",
       "        <td id=\"T_6292faac_ba1e_11e8_bbbb_6030d4706122row0_col2\" class=\"data row0 col2\" >84.03%</td> \n",
       "    </tr>    <tr> \n",
       "        <th id=\"T_6292faac_ba1e_11e8_bbbb_6030d4706122level0_row1\" class=\"row_heading level0 row1\" >1</th> \n",
       "        <td id=\"T_6292faac_ba1e_11e8_bbbb_6030d4706122row1_col0\" class=\"data row1 col0\" >Female</td> \n",
       "        <td id=\"T_6292faac_ba1e_11e8_bbbb_6030d4706122row1_col1\" class=\"data row1 col1\" >81</td> \n",
       "        <td id=\"T_6292faac_ba1e_11e8_bbbb_6030d4706122row1_col2\" class=\"data row1 col2\" >14.06%</td> \n",
       "    </tr>    <tr> \n",
       "        <th id=\"T_6292faac_ba1e_11e8_bbbb_6030d4706122level0_row2\" class=\"row_heading level0 row2\" >2</th> \n",
       "        <td id=\"T_6292faac_ba1e_11e8_bbbb_6030d4706122row2_col0\" class=\"data row2 col0\" >Other / Non-Disclosed</td> \n",
       "        <td id=\"T_6292faac_ba1e_11e8_bbbb_6030d4706122row2_col1\" class=\"data row2 col1\" >11</td> \n",
       "        <td id=\"T_6292faac_ba1e_11e8_bbbb_6030d4706122row2_col2\" class=\"data row2 col2\" >1.91%</td> \n",
       "    </tr></tbody> \n",
       "</table> "
      ],
      "text/plain": [
       "<pandas.io.formats.style.Styler at 0x109f716d8>"
      ]
     },
     "execution_count": 111,
     "metadata": {},
     "output_type": "execute_result"
    }
   ],
   "source": [
    "player_count = df[\"SN\"].nunique()\n",
    "\n",
    "female_player_count = df[df[\"Gender\"] == \"Female\"][\"SN\"].nunique()\n",
    "\n",
    "male_player_count = df[df[\"Gender\"] == \"Male\"][\"SN\"].nunique()\n",
    "\n",
    "other_count = player_count - male_player_count - female_player_count\n",
    "\n",
    "male_percent = ((male_player_count/player_count)*100)\n",
    "\n",
    "female_percent = ((female_player_count/player_count)*100)\n",
    "\n",
    "other_percent = ((other_count/player_count)*100)\n",
    "\n",
    "gender_count_df = pd.DataFrame({\"Gender\": [\"Male\", \"Female\", \"Other / Non-Disclosed\"], \"Total Count\": [male_player_count, female_player_count, other_count],\n",
    "                                        \"Percentage of Players\": [male_percent, female_percent, other_percent]}, columns = \n",
    "                                        [\"Gender\", \"Total Count\", \"Percentage of Players\"])\n",
    "                                        \n",
    "gender_count_df.style.format({\"Percentage of Players\": \"{:.2f}%\"})"
   ]
  },
  {
   "cell_type": "markdown",
   "metadata": {},
   "source": [
    "\n",
    "## Purchasing Analysis (Gender)"
   ]
  },
  {
   "cell_type": "markdown",
   "metadata": {},
   "source": [
    "* Run basic calculations to obtain purchase count, avg. purchase price, avg. purchase total per person etc. by gender\n",
    "\n",
    "\n",
    "\n",
    "\n",
    "* Create a summary data frame to hold the results\n",
    "\n",
    "\n",
    "* Optional: give the displayed data cleaner formatting\n",
    "\n",
    "\n",
    "* Display the summary data frame"
   ]
  },
  {
   "cell_type": "code",
   "execution_count": 118,
   "metadata": {},
   "outputs": [
    {
     "data": {
      "text/html": [
       "<style  type=\"text/css\" >\n",
       "</style>  \n",
       "<table id=\"T_3bf67ee8_ba1f_11e8_9d6b_6030d4706122\" > \n",
       "<thead>    <tr> \n",
       "        <th class=\"blank level0\" ></th> \n",
       "        <th class=\"col_heading level0 col0\" >Purchase Count</th> \n",
       "        <th class=\"col_heading level0 col1\" >Average Purchase Price</th> \n",
       "        <th class=\"col_heading level0 col2\" >Total Purchase Value</th> \n",
       "        <th class=\"col_heading level0 col3\" >Normalized Totals</th> \n",
       "    </tr>    <tr> \n",
       "        <th class=\"index_name level0\" >Gender</th> \n",
       "        <th class=\"blank\" ></th> \n",
       "        <th class=\"blank\" ></th> \n",
       "        <th class=\"blank\" ></th> \n",
       "        <th class=\"blank\" ></th> \n",
       "    </tr></thead> \n",
       "<tbody>    <tr> \n",
       "        <th id=\"T_3bf67ee8_ba1f_11e8_9d6b_6030d4706122level0_row0\" class=\"row_heading level0 row0\" >Female</th> \n",
       "        <td id=\"T_3bf67ee8_ba1f_11e8_9d6b_6030d4706122row0_col0\" class=\"data row0 col0\" >113</td> \n",
       "        <td id=\"T_3bf67ee8_ba1f_11e8_9d6b_6030d4706122row0_col1\" class=\"data row0 col1\" >$3.20</td> \n",
       "        <td id=\"T_3bf67ee8_ba1f_11e8_9d6b_6030d4706122row0_col2\" class=\"data row0 col2\" >$361.94</td> \n",
       "        <td id=\"T_3bf67ee8_ba1f_11e8_9d6b_6030d4706122row0_col3\" class=\"data row0 col3\" >$4.47</td> \n",
       "    </tr>    <tr> \n",
       "        <th id=\"T_3bf67ee8_ba1f_11e8_9d6b_6030d4706122level0_row1\" class=\"row_heading level0 row1\" >Male</th> \n",
       "        <td id=\"T_3bf67ee8_ba1f_11e8_9d6b_6030d4706122row1_col0\" class=\"data row1 col0\" >652</td> \n",
       "        <td id=\"T_3bf67ee8_ba1f_11e8_9d6b_6030d4706122row1_col1\" class=\"data row1 col1\" >$3.02</td> \n",
       "        <td id=\"T_3bf67ee8_ba1f_11e8_9d6b_6030d4706122row1_col2\" class=\"data row1 col2\" >$1967.64</td> \n",
       "        <td id=\"T_3bf67ee8_ba1f_11e8_9d6b_6030d4706122row1_col3\" class=\"data row1 col3\" >$4.07</td> \n",
       "    </tr>    <tr> \n",
       "        <th id=\"T_3bf67ee8_ba1f_11e8_9d6b_6030d4706122level0_row2\" class=\"row_heading level0 row2\" >Other / Non-Disclosed</th> \n",
       "        <td id=\"T_3bf67ee8_ba1f_11e8_9d6b_6030d4706122row2_col0\" class=\"data row2 col0\" >15</td> \n",
       "        <td id=\"T_3bf67ee8_ba1f_11e8_9d6b_6030d4706122row2_col1\" class=\"data row2 col1\" >$3.35</td> \n",
       "        <td id=\"T_3bf67ee8_ba1f_11e8_9d6b_6030d4706122row2_col2\" class=\"data row2 col2\" >$50.19</td> \n",
       "        <td id=\"T_3bf67ee8_ba1f_11e8_9d6b_6030d4706122row2_col3\" class=\"data row2 col3\" >$4.56</td> \n",
       "    </tr></tbody> \n",
       "</table> "
      ],
      "text/plain": [
       "<pandas.io.formats.style.Styler at 0x10c5d4f98>"
      ]
     },
     "execution_count": 118,
     "metadata": {},
     "output_type": "execute_result"
    }
   ],
   "source": [
    "male_purchases = df[df[\"Gender\"] == \"Male\"][\"Price\"].count()\n",
    "\n",
    "female_purchases = df[df[\"Gender\"] == \"Female\"][\"Price\"].count()\n",
    "\n",
    "other_purchases = purchases - male_purchases - female_purchases\n",
    "\n",
    "male_avg_price = df[df[\"Gender\"] == \"Male\"]['Price'].mean()\n",
    "\n",
    "female_avg_price = df[df[\"Gender\"] == \"Female\"]['Price'].mean()\n",
    "\n",
    "other_avg_price = df[df[\"Gender\"] == \"Other / Non-Disclosed\"]['Price'].mean()\n",
    "\n",
    "male_price = df[df[\"Gender\"] == \"Male\"]['Price'].sum()\n",
    "\n",
    "female_price = df[df[\"Gender\"] == \"Female\"]['Price'].sum()\n",
    "\n",
    "other_price = df[df[\"Gender\"] == \"Other / Non-Disclosed\"]['Price'].sum()\n",
    "\n",
    "male_norm = male_price/male_player_count\n",
    "\n",
    "female_norm = female_price/female_player_count\n",
    "\n",
    "other_norm = other_price/other_count\n",
    "\n",
    "gender_costs_df = pd.DataFrame({\"Gender\": [\"Female\", \"Male\", \"Other / Non-Disclosed\"], \"Purchase Count\": [female_purchases, male_purchases, other_purchases],\n",
    "                                        \"Average Purchase Price\": [female_avg_price, male_avg_price, other_avg_price], \"Total Purchase Value\": [female_price, male_price, other_price],\n",
    "                                \"Normalized Totals\": [female_norm, male_norm, other_norm]}, columns = \n",
    "                                        [\"Gender\", \"Purchase Count\", \"Average Purchase Price\", \"Total Purchase Value\", \"Normalized Totals\"])\n",
    "                                        \n",
    "gender_costs_lit = gender_purchase_df.set_index(\"Gender\")\n",
    "\n",
    "gender_costs_lit.style.format({\"Average Purchase Price\": \"${:.2f}\", \"Total Purchase Value\": \"${:.2f}\", \"Normalized Totals\": \"${:.2f}\"})"
   ]
  },
  {
   "cell_type": "markdown",
   "metadata": {},
   "source": [
    "## Age Demographics"
   ]
  },
  {
   "cell_type": "markdown",
   "metadata": {},
   "source": [
    "* Establish bins for ages\n",
    "\n",
    "\n",
    "* Categorize the existing players using the age bins. Hint: use pd.cut()\n",
    "\n",
    "\n",
    "* Calculate the numbers and percentages by age group\n",
    "\n",
    "\n",
    "* Create a summary data frame to hold the results\n",
    "\n",
    "\n",
    "* Optional: round the percentage column to two decimal points\n",
    "\n",
    "\n",
    "* Display Age Demographics Table\n"
   ]
  },
  {
   "cell_type": "code",
   "execution_count": 137,
   "metadata": {},
   "outputs": [
    {
     "data": {
      "text/html": [
       "<style  type=\"text/css\" >\n",
       "</style>  \n",
       "<table id=\"T_bd2ab646_ba21_11e8_9f20_6030d4706122\" > \n",
       "<thead>    <tr> \n",
       "        <th class=\"blank level0\" ></th> \n",
       "        <th class=\"col_heading level0 col0\" >Total Count</th> \n",
       "        <th class=\"col_heading level0 col1\" >Percentage of Players</th> \n",
       "    </tr>    <tr> \n",
       "        <th class=\"index_name level0\" >Age</th> \n",
       "        <th class=\"blank\" ></th> \n",
       "        <th class=\"blank\" ></th> \n",
       "    </tr></thead> \n",
       "<tbody>    <tr> \n",
       "        <th id=\"T_bd2ab646_ba21_11e8_9f20_6030d4706122level0_row0\" class=\"row_heading level0 row0\" ><10</th> \n",
       "        <td id=\"T_bd2ab646_ba21_11e8_9f20_6030d4706122row0_col0\" class=\"data row0 col0\" >17</td> \n",
       "        <td id=\"T_bd2ab646_ba21_11e8_9f20_6030d4706122row0_col1\" class=\"data row0 col1\" >2.95%</td> \n",
       "    </tr>    <tr> \n",
       "        <th id=\"T_bd2ab646_ba21_11e8_9f20_6030d4706122level0_row1\" class=\"row_heading level0 row1\" >10-14</th> \n",
       "        <td id=\"T_bd2ab646_ba21_11e8_9f20_6030d4706122row1_col0\" class=\"data row1 col0\" >22</td> \n",
       "        <td id=\"T_bd2ab646_ba21_11e8_9f20_6030d4706122row1_col1\" class=\"data row1 col1\" >3.82%</td> \n",
       "    </tr>    <tr> \n",
       "        <th id=\"T_bd2ab646_ba21_11e8_9f20_6030d4706122level0_row2\" class=\"row_heading level0 row2\" >15-19</th> \n",
       "        <td id=\"T_bd2ab646_ba21_11e8_9f20_6030d4706122row2_col0\" class=\"data row2 col0\" >107</td> \n",
       "        <td id=\"T_bd2ab646_ba21_11e8_9f20_6030d4706122row2_col1\" class=\"data row2 col1\" >18.58%</td> \n",
       "    </tr>    <tr> \n",
       "        <th id=\"T_bd2ab646_ba21_11e8_9f20_6030d4706122level0_row3\" class=\"row_heading level0 row3\" >20-24</th> \n",
       "        <td id=\"T_bd2ab646_ba21_11e8_9f20_6030d4706122row3_col0\" class=\"data row3 col0\" >258</td> \n",
       "        <td id=\"T_bd2ab646_ba21_11e8_9f20_6030d4706122row3_col1\" class=\"data row3 col1\" >44.79%</td> \n",
       "    </tr>    <tr> \n",
       "        <th id=\"T_bd2ab646_ba21_11e8_9f20_6030d4706122level0_row4\" class=\"row_heading level0 row4\" >25-29</th> \n",
       "        <td id=\"T_bd2ab646_ba21_11e8_9f20_6030d4706122row4_col0\" class=\"data row4 col0\" >77</td> \n",
       "        <td id=\"T_bd2ab646_ba21_11e8_9f20_6030d4706122row4_col1\" class=\"data row4 col1\" >13.37%</td> \n",
       "    </tr>    <tr> \n",
       "        <th id=\"T_bd2ab646_ba21_11e8_9f20_6030d4706122level0_row5\" class=\"row_heading level0 row5\" >30-34</th> \n",
       "        <td id=\"T_bd2ab646_ba21_11e8_9f20_6030d4706122row5_col0\" class=\"data row5 col0\" >52</td> \n",
       "        <td id=\"T_bd2ab646_ba21_11e8_9f20_6030d4706122row5_col1\" class=\"data row5 col1\" >9.03%</td> \n",
       "    </tr>    <tr> \n",
       "        <th id=\"T_bd2ab646_ba21_11e8_9f20_6030d4706122level0_row6\" class=\"row_heading level0 row6\" >35-39</th> \n",
       "        <td id=\"T_bd2ab646_ba21_11e8_9f20_6030d4706122row6_col0\" class=\"data row6 col0\" >31</td> \n",
       "        <td id=\"T_bd2ab646_ba21_11e8_9f20_6030d4706122row6_col1\" class=\"data row6 col1\" >5.38%</td> \n",
       "    </tr>    <tr> \n",
       "        <th id=\"T_bd2ab646_ba21_11e8_9f20_6030d4706122level0_row7\" class=\"row_heading level0 row7\" >40+</th> \n",
       "        <td id=\"T_bd2ab646_ba21_11e8_9f20_6030d4706122row7_col0\" class=\"data row7 col0\" >12</td> \n",
       "        <td id=\"T_bd2ab646_ba21_11e8_9f20_6030d4706122row7_col1\" class=\"data row7 col1\" >2.08%</td> \n",
       "    </tr></tbody> \n",
       "</table> "
      ],
      "text/plain": [
       "<pandas.io.formats.style.Styler at 0x10c62e898>"
      ]
     },
     "execution_count": 137,
     "metadata": {},
     "output_type": "execute_result"
    }
   ],
   "source": [
    "baby = df[df[\"Age\"] <10]\n",
    "\n",
    "teen = df[(df[\"Age\"] >=10) & (df[\"Age\"] <=14)]\n",
    "\n",
    "late_teen = df[(df[\"Age\"] >=15) & (df[\"Age\"] <=19)]\n",
    "\n",
    "early_twenties = df[(df[\"Age\"] >=20) & (df[\"Age\"] <=24)]\n",
    "\n",
    "late_twenties = df[(df[\"Age\"] >=25) & (df[\"Age\"] <=29)]\n",
    "\n",
    "early_thirties = df[(df[\"Age\"] >=30) & (df[\"Age\"] <=34)]\n",
    "\n",
    "late_thirties = df[(df[\"Age\"] >=35) & (df[\"Age\"] <=39)]\n",
    "\n",
    "old = df[df[\"Age\"] >=40]\n",
    "\n",
    "\n",
    "age_count_df = pd.DataFrame({\"Age\": [\"<10\", \"10-14\", \"15-19\", \"20-24\", \"25-29\", \"30-34\", \"35-39\", \"40+\"],\n",
    "                         \"Total Count\": [baby[\"SN\"].nunique(), teen[\"SN\"].nunique(), late_teen[\"SN\"].nunique(), early_twenties[\"SN\"].nunique(), late_twenties[\"SN\"].nunique(), early_thirties[\"SN\"].nunique(), late_thirties[\"SN\"].nunique(), old[\"SN\"].nunique()], \n",
    "                            \"Percentage of Players\": [(baby[\"SN\"].nunique()/fullcount)*100, (teen[\"SN\"].nunique()/fullcount)*100, (late_teen[\"SN\"].nunique()/fullcount)*100, (early_twenties[\"SN\"].nunique()/fullcount)*100, (late_twenties[\"SN\"].nunique()/fullcount)*100, (early_thirties[\"SN\"].nunique()/fullcount)*100, (late_thirties[\"SN\"].nunique()/fullcount)*100, (old[\"SN\"].nunique()/fullcount)*100]})\n",
    "\n",
    "age_count_lit = age_demo_df.set_index(\"Age\")\n",
    "\n",
    "age_count_lit.style.format({\"Percentage of Players\": \"{:.2f}%\"})"
   ]
  },
  {
   "cell_type": "markdown",
   "metadata": {},
   "source": [
    "## Purchasing Analysis (Age)"
   ]
  },
  {
   "cell_type": "markdown",
   "metadata": {},
   "source": [
    "* Bin the purchase_data data frame by age\n",
    "\n",
    "\n",
    "* Run basic calculations to obtain purchase count, avg. purchase price, avg. purchase total per person etc. in the table below\n",
    "\n",
    "\n",
    "* Create a summary data frame to hold the results\n",
    "\n",
    "\n",
    "* Optional: give the displayed data cleaner formatting\n",
    "\n",
    "\n",
    "* Display the summary data frame"
   ]
  },
  {
   "cell_type": "code",
   "execution_count": 141,
   "metadata": {},
   "outputs": [
    {
     "data": {
      "text/html": [
       "<style  type=\"text/css\" >\n",
       "</style>  \n",
       "<table id=\"T_e9224376_ba22_11e8_b81c_6030d4706122\" > \n",
       "<thead>    <tr> \n",
       "        <th class=\"blank level0\" ></th> \n",
       "        <th class=\"col_heading level0 col0\" >Purchase Count</th> \n",
       "        <th class=\"col_heading level0 col1\" >Average Purchase Price</th> \n",
       "        <th class=\"col_heading level0 col2\" >Total Purchase Value</th> \n",
       "        <th class=\"col_heading level0 col3\" >Normalized Totals</th> \n",
       "    </tr>    <tr> \n",
       "        <th class=\"index_name level0\" >Age</th> \n",
       "        <th class=\"blank\" ></th> \n",
       "        <th class=\"blank\" ></th> \n",
       "        <th class=\"blank\" ></th> \n",
       "        <th class=\"blank\" ></th> \n",
       "    </tr></thead> \n",
       "<tbody>    <tr> \n",
       "        <th id=\"T_e9224376_ba22_11e8_b81c_6030d4706122level0_row0\" class=\"row_heading level0 row0\" ><10</th> \n",
       "        <td id=\"T_e9224376_ba22_11e8_b81c_6030d4706122row0_col0\" class=\"data row0 col0\" >23</td> \n",
       "        <td id=\"T_e9224376_ba22_11e8_b81c_6030d4706122row0_col1\" class=\"data row0 col1\" >$3.35</td> \n",
       "        <td id=\"T_e9224376_ba22_11e8_b81c_6030d4706122row0_col2\" class=\"data row0 col2\" >$77.13</td> \n",
       "        <td id=\"T_e9224376_ba22_11e8_b81c_6030d4706122row0_col3\" class=\"data row0 col3\" >$4.54</td> \n",
       "    </tr>    <tr> \n",
       "        <th id=\"T_e9224376_ba22_11e8_b81c_6030d4706122level0_row1\" class=\"row_heading level0 row1\" >10-14</th> \n",
       "        <td id=\"T_e9224376_ba22_11e8_b81c_6030d4706122row1_col0\" class=\"data row1 col0\" >28</td> \n",
       "        <td id=\"T_e9224376_ba22_11e8_b81c_6030d4706122row1_col1\" class=\"data row1 col1\" >$2.96</td> \n",
       "        <td id=\"T_e9224376_ba22_11e8_b81c_6030d4706122row1_col2\" class=\"data row1 col2\" >$82.78</td> \n",
       "        <td id=\"T_e9224376_ba22_11e8_b81c_6030d4706122row1_col3\" class=\"data row1 col3\" >$3.76</td> \n",
       "    </tr>    <tr> \n",
       "        <th id=\"T_e9224376_ba22_11e8_b81c_6030d4706122level0_row2\" class=\"row_heading level0 row2\" >15-19</th> \n",
       "        <td id=\"T_e9224376_ba22_11e8_b81c_6030d4706122row2_col0\" class=\"data row2 col0\" >136</td> \n",
       "        <td id=\"T_e9224376_ba22_11e8_b81c_6030d4706122row2_col1\" class=\"data row2 col1\" >$3.04</td> \n",
       "        <td id=\"T_e9224376_ba22_11e8_b81c_6030d4706122row2_col2\" class=\"data row2 col2\" >$412.89</td> \n",
       "        <td id=\"T_e9224376_ba22_11e8_b81c_6030d4706122row2_col3\" class=\"data row2 col3\" >$3.86</td> \n",
       "    </tr>    <tr> \n",
       "        <th id=\"T_e9224376_ba22_11e8_b81c_6030d4706122level0_row3\" class=\"row_heading level0 row3\" >20-24</th> \n",
       "        <td id=\"T_e9224376_ba22_11e8_b81c_6030d4706122row3_col0\" class=\"data row3 col0\" >365</td> \n",
       "        <td id=\"T_e9224376_ba22_11e8_b81c_6030d4706122row3_col1\" class=\"data row3 col1\" >$3.05</td> \n",
       "        <td id=\"T_e9224376_ba22_11e8_b81c_6030d4706122row3_col2\" class=\"data row3 col2\" >$1114.06</td> \n",
       "        <td id=\"T_e9224376_ba22_11e8_b81c_6030d4706122row3_col3\" class=\"data row3 col3\" >$4.32</td> \n",
       "    </tr>    <tr> \n",
       "        <th id=\"T_e9224376_ba22_11e8_b81c_6030d4706122level0_row4\" class=\"row_heading level0 row4\" >25-29</th> \n",
       "        <td id=\"T_e9224376_ba22_11e8_b81c_6030d4706122row4_col0\" class=\"data row4 col0\" >101</td> \n",
       "        <td id=\"T_e9224376_ba22_11e8_b81c_6030d4706122row4_col1\" class=\"data row4 col1\" >$2.90</td> \n",
       "        <td id=\"T_e9224376_ba22_11e8_b81c_6030d4706122row4_col2\" class=\"data row4 col2\" >$293.00</td> \n",
       "        <td id=\"T_e9224376_ba22_11e8_b81c_6030d4706122row4_col3\" class=\"data row4 col3\" >$3.81</td> \n",
       "    </tr>    <tr> \n",
       "        <th id=\"T_e9224376_ba22_11e8_b81c_6030d4706122level0_row5\" class=\"row_heading level0 row5\" >30-34</th> \n",
       "        <td id=\"T_e9224376_ba22_11e8_b81c_6030d4706122row5_col0\" class=\"data row5 col0\" >73</td> \n",
       "        <td id=\"T_e9224376_ba22_11e8_b81c_6030d4706122row5_col1\" class=\"data row5 col1\" >$2.93</td> \n",
       "        <td id=\"T_e9224376_ba22_11e8_b81c_6030d4706122row5_col2\" class=\"data row5 col2\" >$214.00</td> \n",
       "        <td id=\"T_e9224376_ba22_11e8_b81c_6030d4706122row5_col3\" class=\"data row5 col3\" >$4.12</td> \n",
       "    </tr>    <tr> \n",
       "        <th id=\"T_e9224376_ba22_11e8_b81c_6030d4706122level0_row6\" class=\"row_heading level0 row6\" >35-39</th> \n",
       "        <td id=\"T_e9224376_ba22_11e8_b81c_6030d4706122row6_col0\" class=\"data row6 col0\" >41</td> \n",
       "        <td id=\"T_e9224376_ba22_11e8_b81c_6030d4706122row6_col1\" class=\"data row6 col1\" >$3.60</td> \n",
       "        <td id=\"T_e9224376_ba22_11e8_b81c_6030d4706122row6_col2\" class=\"data row6 col2\" >$147.67</td> \n",
       "        <td id=\"T_e9224376_ba22_11e8_b81c_6030d4706122row6_col3\" class=\"data row6 col3\" >$4.76</td> \n",
       "    </tr>    <tr> \n",
       "        <th id=\"T_e9224376_ba22_11e8_b81c_6030d4706122level0_row7\" class=\"row_heading level0 row7\" >40+</th> \n",
       "        <td id=\"T_e9224376_ba22_11e8_b81c_6030d4706122row7_col0\" class=\"data row7 col0\" >13</td> \n",
       "        <td id=\"T_e9224376_ba22_11e8_b81c_6030d4706122row7_col1\" class=\"data row7 col1\" >$2.94</td> \n",
       "        <td id=\"T_e9224376_ba22_11e8_b81c_6030d4706122row7_col2\" class=\"data row7 col2\" >$38.24</td> \n",
       "        <td id=\"T_e9224376_ba22_11e8_b81c_6030d4706122row7_col3\" class=\"data row7 col3\" >$3.19</td> \n",
       "    </tr></tbody> \n",
       "</table> "
      ],
      "text/plain": [
       "<pandas.io.formats.style.Styler at 0x10c633a20>"
      ]
     },
     "execution_count": 141,
     "metadata": {},
     "output_type": "execute_result"
    }
   ],
   "source": [
    "age_count_df = pd.DataFrame({\"Age\": [\"<10\", \"10-14\", \"15-19\", \"20-24\", \"25-29\", \"30-34\", \"35-39\", \"40+\"],\n",
    "                              \"Purchase Count\": [baby[\"Price\"].count(), teen[\"Price\"].count(), late_teen[\"Price\"].count(), early_twenties[\"Price\"].count(), late_twenties[\"Price\"].count(), early_thirties[\"Price\"].count(), late_thirties[\"Price\"].count(), old[\"Price\"].count()],\n",
    "                              \"Average Purchase Price\": [baby[\"Price\"].mean(), teen[\"Price\"].mean(), late_teen[\"Price\"].mean(), early_twenties[\"Price\"].mean(), late_twenties[\"Price\"].mean(), early_thirties[\"Price\"].mean(), late_thirties[\"Price\"].mean(), old[\"Price\"].mean()], \n",
    "                              \"Total Purchase Value\": [baby[\"Price\"].sum(), teen[\"Price\"].sum(), hiteens[\"Price\"].sum(), early_twenties[\"Price\"].sum(), late_twenties[\"Price\"].sum(), early_thirties[\"Price\"].sum(), late_thirties[\"Price\"].sum(), old[\"Price\"].sum()],\n",
    "                              \"Normalized Totals\": [baby[\"Price\"].sum()/baby['SN'].nunique(), teen[\"Price\"].sum()/teen['SN'].nunique(), late_teen[\"Price\"].sum()/late_teen['SN'].nunique(), \n",
    "                                                    early_twenties[\"Price\"].sum()/early_twenties['SN'].nunique(), late_twenties[\"Price\"].sum()/late_twenties['SN'].nunique(), \n",
    "                                                    early_thirties[\"Price\"].sum()/early_thirties['SN'].nunique(), late_thirties[\"Price\"].sum()/late_thirties['SN'].nunique(), \n",
    "                                                    old[\"Price\"].sum()/old['SN'].nunique()]}, \n",
    "                             columns = \n",
    "                            [\"Age\", \"Purchase Count\", \"Average Purchase Price\", \"Total Purchase Value\", \"Normalized Totals\"])\n",
    "\n",
    "age_count_lit = age_count_df.set_index(\"Age\")\n",
    "\n",
    "age_count_lit.style.format({\"Average Purchase Price\": \"${:.2f}\", \"Total Purchase Value\": \"${:.2f}\", \"Normalized Totals\": \"${:.2f}\"})"
   ]
  },
  {
   "cell_type": "markdown",
   "metadata": {},
   "source": [
    "## Top Spenders"
   ]
  },
  {
   "cell_type": "markdown",
   "metadata": {},
   "source": [
    "* Run basic calculations to obtain the results in the table below\n",
    "\n",
    "\n",
    "* Create a summary data frame to hold the results\n",
    "\n",
    "\n",
    "* Sort the total purchase value column in descending order\n",
    "\n",
    "\n",
    "* Optional: give the displayed data cleaner formatting\n",
    "\n",
    "\n",
    "* Display a preview of the summary data frame\n",
    "\n"
   ]
  },
  {
   "cell_type": "code",
   "execution_count": 173,
   "metadata": {},
   "outputs": [
    {
     "data": {
      "text/html": [
       "<style  type=\"text/css\" >\n",
       "</style>  \n",
       "<table id=\"T_e6daf3ba_ba27_11e8_9064_6030d4706122\" > \n",
       "<thead>    <tr> \n",
       "        <th class=\"blank level0\" ></th> \n",
       "        <th class=\"col_heading level0 col0\" >Purchase Count</th> \n",
       "        <th class=\"col_heading level0 col1\" >Average Purchase Price</th> \n",
       "        <th class=\"col_heading level0 col2\" >Total Purchase Value</th> \n",
       "    </tr>    <tr> \n",
       "        <th class=\"index_name level0\" >SN</th> \n",
       "        <th class=\"blank\" ></th> \n",
       "        <th class=\"blank\" ></th> \n",
       "        <th class=\"blank\" ></th> \n",
       "    </tr></thead> \n",
       "<tbody>    <tr> \n",
       "        <th id=\"T_e6daf3ba_ba27_11e8_9064_6030d4706122level0_row0\" class=\"row_heading level0 row0\" >Lisosia93</th> \n",
       "        <td id=\"T_e6daf3ba_ba27_11e8_9064_6030d4706122row0_col0\" class=\"data row0 col0\" >5</td> \n",
       "        <td id=\"T_e6daf3ba_ba27_11e8_9064_6030d4706122row0_col1\" class=\"data row0 col1\" >$3.79</td> \n",
       "        <td id=\"T_e6daf3ba_ba27_11e8_9064_6030d4706122row0_col2\" class=\"data row0 col2\" >$18.96</td> \n",
       "    </tr>    <tr> \n",
       "        <th id=\"T_e6daf3ba_ba27_11e8_9064_6030d4706122level0_row1\" class=\"row_heading level0 row1\" >Idastidru52</th> \n",
       "        <td id=\"T_e6daf3ba_ba27_11e8_9064_6030d4706122row1_col0\" class=\"data row1 col0\" >4</td> \n",
       "        <td id=\"T_e6daf3ba_ba27_11e8_9064_6030d4706122row1_col1\" class=\"data row1 col1\" >$3.86</td> \n",
       "        <td id=\"T_e6daf3ba_ba27_11e8_9064_6030d4706122row1_col2\" class=\"data row1 col2\" >$15.45</td> \n",
       "    </tr>    <tr> \n",
       "        <th id=\"T_e6daf3ba_ba27_11e8_9064_6030d4706122level0_row2\" class=\"row_heading level0 row2\" >Chamjask73</th> \n",
       "        <td id=\"T_e6daf3ba_ba27_11e8_9064_6030d4706122row2_col0\" class=\"data row2 col0\" >3</td> \n",
       "        <td id=\"T_e6daf3ba_ba27_11e8_9064_6030d4706122row2_col1\" class=\"data row2 col1\" >$4.61</td> \n",
       "        <td id=\"T_e6daf3ba_ba27_11e8_9064_6030d4706122row2_col2\" class=\"data row2 col2\" >$13.83</td> \n",
       "    </tr>    <tr> \n",
       "        <th id=\"T_e6daf3ba_ba27_11e8_9064_6030d4706122level0_row3\" class=\"row_heading level0 row3\" >Iral74</th> \n",
       "        <td id=\"T_e6daf3ba_ba27_11e8_9064_6030d4706122row3_col0\" class=\"data row3 col0\" >4</td> \n",
       "        <td id=\"T_e6daf3ba_ba27_11e8_9064_6030d4706122row3_col1\" class=\"data row3 col1\" >$3.40</td> \n",
       "        <td id=\"T_e6daf3ba_ba27_11e8_9064_6030d4706122row3_col2\" class=\"data row3 col2\" >$13.62</td> \n",
       "    </tr>    <tr> \n",
       "        <th id=\"T_e6daf3ba_ba27_11e8_9064_6030d4706122level0_row4\" class=\"row_heading level0 row4\" >Iskadarya95</th> \n",
       "        <td id=\"T_e6daf3ba_ba27_11e8_9064_6030d4706122row4_col0\" class=\"data row4 col0\" >3</td> \n",
       "        <td id=\"T_e6daf3ba_ba27_11e8_9064_6030d4706122row4_col1\" class=\"data row4 col1\" >$4.37</td> \n",
       "        <td id=\"T_e6daf3ba_ba27_11e8_9064_6030d4706122row4_col2\" class=\"data row4 col2\" >$13.10</td> \n",
       "    </tr></tbody> \n",
       "</table> "
      ],
      "text/plain": [
       "<pandas.io.formats.style.Styler at 0x10c692828>"
      ]
     },
     "execution_count": 173,
     "metadata": {},
     "output_type": "execute_result"
    }
   ],
   "source": [
    "player_tpv = df.groupby('SN')['Price'].sum().to_frame()\n",
    "player_price_count = df.groupby('SN')['Price'].count().to_frame()\n",
    "avg_player_price = df.groupby('SN')['Price'].mean().to_frame()\n",
    "\n",
    "\n",
    "player_tpv.columns=[\"Total Purchase Value\"]\n",
    "combine_tot = player_tpv.join(player_price_count, how=\"left\")\n",
    "combine_tot.columns=[\"Total Purchase Value\", \"Purchase Count\"]\n",
    "\n",
    "combine_avg = combine_tot.join(avg_player_price, how=\"inner\")\n",
    "combine_avg.columns=[\"Total Purchase Value\", \"Purchase Count\", \"Average Purchase Price\"]\n",
    "\n",
    "balling_df = join_avg[[\"Purchase Count\", \"Average Purchase Price\", \"Total Purchase Value\"]]\n",
    "balling_lit = balling_df.sort_values('Total Purchase Value', ascending=False).head()\n",
    "balling_lit.style.format({\"Average Purchase Price\": \"${:.2f}\", \"Total Purchase Value\": \"${:.2f}\"})"
   ]
  },
  {
   "cell_type": "markdown",
   "metadata": {},
   "source": [
    "## Most Popular Items"
   ]
  },
  {
   "cell_type": "markdown",
   "metadata": {},
   "source": [
    "* Retrieve the Item ID, Item Name, and Item Price columns\n",
    "\n",
    "\n",
    "* Group by Item ID and Item Name. Perform calculations to obtain purchase count, item price, and total purchase value\n",
    "\n",
    "\n",
    "* Create a summary data frame to hold the results\n",
    "\n",
    "\n",
    "* Sort the purchase count column in descending order\n",
    "\n",
    "\n",
    "* Optional: give the displayed data cleaner formatting\n",
    "\n",
    "\n",
    "* Display a preview of the summary data frame\n",
    "\n"
   ]
  },
  {
   "cell_type": "code",
   "execution_count": 201,
   "metadata": {},
   "outputs": [
    {
     "data": {
      "text/html": [
       "<style  type=\"text/css\" >\n",
       "</style>  \n",
       "<table id=\"T_1a013fa4_ba2a_11e8_aa92_6030d4706122\" > \n",
       "<thead>    <tr> \n",
       "        <th class=\"blank\" ></th> \n",
       "        <th class=\"blank level0\" ></th> \n",
       "        <th class=\"col_heading level0 col0\" >Purchase Count</th> \n",
       "        <th class=\"col_heading level0 col1\" >Item Price</th> \n",
       "        <th class=\"col_heading level0 col2\" >Total Purchase Value</th> \n",
       "    </tr>    <tr> \n",
       "        <th class=\"index_name level0\" >Item ID</th> \n",
       "        <th class=\"index_name level1\" >Item Name</th> \n",
       "        <th class=\"blank\" ></th> \n",
       "        <th class=\"blank\" ></th> \n",
       "        <th class=\"blank\" ></th> \n",
       "    </tr></thead> \n",
       "<tbody>    <tr> \n",
       "        <th id=\"T_1a013fa4_ba2a_11e8_aa92_6030d4706122level0_row0\" class=\"row_heading level0 row0\" >178</th> \n",
       "        <th id=\"T_1a013fa4_ba2a_11e8_aa92_6030d4706122level1_row0\" class=\"row_heading level1 row0\" >Oathbreaker, Last Hope of the Breaking Storm</th> \n",
       "        <td id=\"T_1a013fa4_ba2a_11e8_aa92_6030d4706122row0_col0\" class=\"data row0 col0\" >12</td> \n",
       "        <td id=\"T_1a013fa4_ba2a_11e8_aa92_6030d4706122row0_col1\" class=\"data row0 col1\" >$4.23</td> \n",
       "        <td id=\"T_1a013fa4_ba2a_11e8_aa92_6030d4706122row0_col2\" class=\"data row0 col2\" >$50.76</td> \n",
       "    </tr>    <tr> \n",
       "        <th id=\"T_1a013fa4_ba2a_11e8_aa92_6030d4706122level0_row1\" class=\"row_heading level0 row1\" >82</th> \n",
       "        <th id=\"T_1a013fa4_ba2a_11e8_aa92_6030d4706122level1_row1\" class=\"row_heading level1 row1\" >Nirvana</th> \n",
       "        <td id=\"T_1a013fa4_ba2a_11e8_aa92_6030d4706122row1_col0\" class=\"data row1 col0\" >9</td> \n",
       "        <td id=\"T_1a013fa4_ba2a_11e8_aa92_6030d4706122row1_col1\" class=\"data row1 col1\" >$4.90</td> \n",
       "        <td id=\"T_1a013fa4_ba2a_11e8_aa92_6030d4706122row1_col2\" class=\"data row1 col2\" >$44.10</td> \n",
       "    </tr>    <tr> \n",
       "        <th id=\"T_1a013fa4_ba2a_11e8_aa92_6030d4706122level0_row2\" class=\"row_heading level0 row2\" >145</th> \n",
       "        <th id=\"T_1a013fa4_ba2a_11e8_aa92_6030d4706122level1_row2\" class=\"row_heading level1 row2\" >Fiery Glass Crusader</th> \n",
       "        <td id=\"T_1a013fa4_ba2a_11e8_aa92_6030d4706122row2_col0\" class=\"data row2 col0\" >9</td> \n",
       "        <td id=\"T_1a013fa4_ba2a_11e8_aa92_6030d4706122row2_col1\" class=\"data row2 col1\" >$4.58</td> \n",
       "        <td id=\"T_1a013fa4_ba2a_11e8_aa92_6030d4706122row2_col2\" class=\"data row2 col2\" >$41.22</td> \n",
       "    </tr>    <tr> \n",
       "        <th id=\"T_1a013fa4_ba2a_11e8_aa92_6030d4706122level0_row3\" class=\"row_heading level0 row3\" >108</th> \n",
       "        <th id=\"T_1a013fa4_ba2a_11e8_aa92_6030d4706122level1_row3\" class=\"row_heading level1 row3\" >Extraction, Quickblade Of Trembling Hands</th> \n",
       "        <td id=\"T_1a013fa4_ba2a_11e8_aa92_6030d4706122row3_col0\" class=\"data row3 col0\" >9</td> \n",
       "        <td id=\"T_1a013fa4_ba2a_11e8_aa92_6030d4706122row3_col1\" class=\"data row3 col1\" >$3.53</td> \n",
       "        <td id=\"T_1a013fa4_ba2a_11e8_aa92_6030d4706122row3_col2\" class=\"data row3 col2\" >$31.77</td> \n",
       "    </tr>    <tr> \n",
       "        <th id=\"T_1a013fa4_ba2a_11e8_aa92_6030d4706122level0_row4\" class=\"row_heading level0 row4\" >103</th> \n",
       "        <th id=\"T_1a013fa4_ba2a_11e8_aa92_6030d4706122level1_row4\" class=\"row_heading level1 row4\" >Singed Scalpel</th> \n",
       "        <td id=\"T_1a013fa4_ba2a_11e8_aa92_6030d4706122row4_col0\" class=\"data row4 col0\" >8</td> \n",
       "        <td id=\"T_1a013fa4_ba2a_11e8_aa92_6030d4706122row4_col1\" class=\"data row4 col1\" >$4.35</td> \n",
       "        <td id=\"T_1a013fa4_ba2a_11e8_aa92_6030d4706122row4_col2\" class=\"data row4 col2\" >$34.80</td> \n",
       "    </tr></tbody> \n",
       "</table> "
      ],
      "text/plain": [
       "<pandas.io.formats.style.Styler at 0x10c6336a0>"
      ]
     },
     "execution_count": 201,
     "metadata": {},
     "output_type": "execute_result"
    }
   ],
   "source": [
    "indi_one = df.groupby(\"Item Name\").sum().reset_index()\n",
    "\n",
    "indi_two = df.groupby(\"Item ID\").sum().reset_index()\n",
    "\n",
    "indi_three = df.groupby(\"Item Name\").count().reset_index()\n",
    "\n",
    "merge_indi_one = pd.merge(indi_one, indi_two, on=\"Price\")\n",
    "\n",
    "merge_indi_two = pd.merge(indi_three, merge_indi_one, on=\"Item Name\")\n",
    "\n",
    "merge_indi_two[\"Gender\"] = (merge_indi_two[\"Price_y\"]/merge_indi_two[\"Item ID\"]).round(2)\n",
    "\n",
    "rename_merge_indi_two = merge_indi_two.rename(columns={\"Age\": \"Purchase Count\", \"Gender\": \"Item Price\", \"Item ID\": \"null\", \"Price_y\": \"Total Purchase Value\", \"Item ID_y\": \"Item ID\"})\n",
    "\n",
    "new_df = rename_merge_indi_two[[\"Item ID\", \"Item Name\", \"Purchase Count\", \"Item Price\", \"Total Purchase Value\"]]\n",
    "\n",
    "item_df = new_df.set_index(['Item ID', 'Item Name'])\n",
    "\n",
    "popular_items = item_df.sort_values('Purchase Count', ascending=False).head(5)\n",
    "\n",
    "popular_items.style.format({\"Item Price\": \"${:.2f}\", \"Total Purchase Value\": \"${:.2f}\"})"
   ]
  },
  {
   "cell_type": "markdown",
   "metadata": {},
   "source": [
    "## Most Profitable Items"
   ]
  },
  {
   "cell_type": "markdown",
   "metadata": {},
   "source": [
    "* Sort the above table by total purchase value in descending order\n",
    "\n",
    "\n",
    "* Optional: give the displayed data cleaner formatting\n",
    "\n",
    "\n",
    "* Display a preview of the data frame\n",
    "\n"
   ]
  },
  {
   "cell_type": "code",
   "execution_count": 205,
   "metadata": {
    "scrolled": true
   },
   "outputs": [
    {
     "data": {
      "text/html": [
       "<style  type=\"text/css\" >\n",
       "</style>  \n",
       "<table id=\"T_855ae1e2_ba2a_11e8_ae1e_6030d4706122\" > \n",
       "<thead>    <tr> \n",
       "        <th class=\"blank\" ></th> \n",
       "        <th class=\"blank level0\" ></th> \n",
       "        <th class=\"col_heading level0 col0\" >Purchase Count</th> \n",
       "        <th class=\"col_heading level0 col1\" >Item Price</th> \n",
       "        <th class=\"col_heading level0 col2\" >Total Purchase Value</th> \n",
       "    </tr>    <tr> \n",
       "        <th class=\"index_name level0\" >Item ID</th> \n",
       "        <th class=\"index_name level1\" >Item Name</th> \n",
       "        <th class=\"blank\" ></th> \n",
       "        <th class=\"blank\" ></th> \n",
       "        <th class=\"blank\" ></th> \n",
       "    </tr></thead> \n",
       "<tbody>    <tr> \n",
       "        <th id=\"T_855ae1e2_ba2a_11e8_ae1e_6030d4706122level0_row0\" class=\"row_heading level0 row0\" >178</th> \n",
       "        <th id=\"T_855ae1e2_ba2a_11e8_ae1e_6030d4706122level1_row0\" class=\"row_heading level1 row0\" >Oathbreaker, Last Hope of the Breaking Storm</th> \n",
       "        <td id=\"T_855ae1e2_ba2a_11e8_ae1e_6030d4706122row0_col0\" class=\"data row0 col0\" >12</td> \n",
       "        <td id=\"T_855ae1e2_ba2a_11e8_ae1e_6030d4706122row0_col1\" class=\"data row0 col1\" >$4.23</td> \n",
       "        <td id=\"T_855ae1e2_ba2a_11e8_ae1e_6030d4706122row0_col2\" class=\"data row0 col2\" >$50.76</td> \n",
       "    </tr>    <tr> \n",
       "        <th id=\"T_855ae1e2_ba2a_11e8_ae1e_6030d4706122level0_row1\" class=\"row_heading level0 row1\" >82</th> \n",
       "        <th id=\"T_855ae1e2_ba2a_11e8_ae1e_6030d4706122level1_row1\" class=\"row_heading level1 row1\" >Nirvana</th> \n",
       "        <td id=\"T_855ae1e2_ba2a_11e8_ae1e_6030d4706122row1_col0\" class=\"data row1 col0\" >9</td> \n",
       "        <td id=\"T_855ae1e2_ba2a_11e8_ae1e_6030d4706122row1_col1\" class=\"data row1 col1\" >$4.90</td> \n",
       "        <td id=\"T_855ae1e2_ba2a_11e8_ae1e_6030d4706122row1_col2\" class=\"data row1 col2\" >$44.10</td> \n",
       "    </tr>    <tr> \n",
       "        <th id=\"T_855ae1e2_ba2a_11e8_ae1e_6030d4706122level0_row2\" class=\"row_heading level0 row2\" >145</th> \n",
       "        <th id=\"T_855ae1e2_ba2a_11e8_ae1e_6030d4706122level1_row2\" class=\"row_heading level1 row2\" >Fiery Glass Crusader</th> \n",
       "        <td id=\"T_855ae1e2_ba2a_11e8_ae1e_6030d4706122row2_col0\" class=\"data row2 col0\" >9</td> \n",
       "        <td id=\"T_855ae1e2_ba2a_11e8_ae1e_6030d4706122row2_col1\" class=\"data row2 col1\" >$4.58</td> \n",
       "        <td id=\"T_855ae1e2_ba2a_11e8_ae1e_6030d4706122row2_col2\" class=\"data row2 col2\" >$41.22</td> \n",
       "    </tr>    <tr> \n",
       "        <th id=\"T_855ae1e2_ba2a_11e8_ae1e_6030d4706122level0_row3\" class=\"row_heading level0 row3\" >103</th> \n",
       "        <th id=\"T_855ae1e2_ba2a_11e8_ae1e_6030d4706122level1_row3\" class=\"row_heading level1 row3\" >Singed Scalpel</th> \n",
       "        <td id=\"T_855ae1e2_ba2a_11e8_ae1e_6030d4706122row3_col0\" class=\"data row3 col0\" >8</td> \n",
       "        <td id=\"T_855ae1e2_ba2a_11e8_ae1e_6030d4706122row3_col1\" class=\"data row3 col1\" >$4.35</td> \n",
       "        <td id=\"T_855ae1e2_ba2a_11e8_ae1e_6030d4706122row3_col2\" class=\"data row3 col2\" >$34.80</td> \n",
       "    </tr>    <tr> \n",
       "        <th id=\"T_855ae1e2_ba2a_11e8_ae1e_6030d4706122level0_row4\" class=\"row_heading level0 row4\" >59</th> \n",
       "        <th id=\"T_855ae1e2_ba2a_11e8_ae1e_6030d4706122level1_row4\" class=\"row_heading level1 row4\" >Lightning, Etcher of the King</th> \n",
       "        <td id=\"T_855ae1e2_ba2a_11e8_ae1e_6030d4706122row4_col0\" class=\"data row4 col0\" >8</td> \n",
       "        <td id=\"T_855ae1e2_ba2a_11e8_ae1e_6030d4706122row4_col1\" class=\"data row4 col1\" >$4.23</td> \n",
       "        <td id=\"T_855ae1e2_ba2a_11e8_ae1e_6030d4706122row4_col2\" class=\"data row4 col2\" >$33.84</td> \n",
       "    </tr></tbody> \n",
       "</table> "
      ],
      "text/plain": [
       "<pandas.io.formats.style.Styler at 0x10c71dba8>"
      ]
     },
     "execution_count": 205,
     "metadata": {},
     "output_type": "execute_result"
    }
   ],
   "source": [
    "most_profitable = item_df.sort_values('Total Purchase Value', ascending=False).head()\n",
    "most_profitable.style.format({\"Item Price\": \"${:.2f}\", \"Total Purchase Value\": \"${:.2f}\"})"
   ]
  },
  {
   "cell_type": "code",
   "execution_count": 203,
   "metadata": {},
   "outputs": [],
   "source": [
    "#finito!"
   ]
  },
  {
   "cell_type": "code",
   "execution_count": null,
   "metadata": {},
   "outputs": [],
   "source": []
  }
 ],
 "metadata": {
  "anaconda-cloud": {},
  "kernel_info": {
   "name": "python3"
  },
  "kernelspec": {
   "display_name": "Python 3",
   "language": "python",
   "name": "python3"
  },
  "language_info": {
   "codemirror_mode": {
    "name": "ipython",
    "version": 3
   },
   "file_extension": ".py",
   "mimetype": "text/x-python",
   "name": "python",
   "nbconvert_exporter": "python",
   "pygments_lexer": "ipython3",
   "version": "3.6.5"
  },
  "nteract": {
   "version": "0.2.0"
  }
 },
 "nbformat": 4,
 "nbformat_minor": 2
}
